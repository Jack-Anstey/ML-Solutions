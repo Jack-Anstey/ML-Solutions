{
 "cells": [
  {
   "cell_type": "code",
   "execution_count": null,
   "metadata": {},
   "outputs": [],
   "source": []
  }
 ],
 "metadata": {
  "kernelspec": {
   "display_name": "Python 3.7.5 ('venv': venv)",
   "language": "python",
   "name": "python3"
  },
  "language_info": {
   "name": "python",
   "version": "3.7.5"
  },
  "orig_nbformat": 4,
  "vscode": {
   "interpreter": {
    "hash": "025dde433dd7f536babc6c4b1c124583de07fb8bee31d81edfc6ad4772b071d8"
   }
  }
 },
 "nbformat": 4,
 "nbformat_minor": 2
}
