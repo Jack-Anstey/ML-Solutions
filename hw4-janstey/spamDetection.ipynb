{
 "cells": [
  {
   "cell_type": "code",
   "execution_count": 25,
   "metadata": {},
   "outputs": [],
   "source": [
    "import numpy as np\n",
    "import pandas as pd\n",
    "import perceptron\n",
    "from sklearn.naive_bayes import MultinomialNB\n",
    "from sklearn.naive_bayes import BernoulliNB\n",
    "from sklearn.linear_model import LogisticRegression\n",
    "from sklearn.metrics import accuracy_score"
   ]
  },
  {
   "cell_type": "code",
   "execution_count": 26,
   "metadata": {},
   "outputs": [],
   "source": [
    "# load the datasets into dataframes\n",
    "xTrainB = pd.read_csv(\"binaryTrain.csv\")\n",
    "xTestB = pd.read_csv(\"binaryTest.csv\")\n",
    "xTrainC = pd.read_csv(\"countTrain.csv\")\n",
    "xTestC = pd.read_csv(\"countTest.csv\")\n",
    "\n",
    "yTrain = pd.read_csv(\"yTrain.csv\")\n",
    "yTest = pd.read_csv(\"yTest.csv\")\n"
   ]
  },
  {
   "cell_type": "code",
   "execution_count": 27,
   "metadata": {},
   "outputs": [],
   "source": [
    "# Try perceptron\n",
    "mnb = MultinomialNB()  # make a multinomial naive bayes object\n",
    "yHatMNBB = mnb.fit(xTrainB, yTrain['label']).predict(xTestB)\n",
    "yHatMNBC = mnb.fit(xTrainC, yTrain['label']).predict(xTestC)"
   ]
  },
  {
   "cell_type": "code",
   "execution_count": 28,
   "metadata": {},
   "outputs": [
    {
     "name": "stderr",
     "output_type": "stream",
     "text": [
      "c:\\Users\\Jacka\\OneDrive - Emory University\\College\\Emory\\5 Senior Year Part 2 Electric Boogaloo\\CS 334\\hw4-janstey\\venv\\lib\\site-packages\\sklearn\\linear_model\\_logistic.py:818: ConvergenceWarning: lbfgs failed to converge (status=1):\n",
      "STOP: TOTAL NO. of ITERATIONS REACHED LIMIT.\n",
      "\n",
      "Increase the number of iterations (max_iter) or scale the data as shown in:\n",
      "    https://scikit-learn.org/stable/modules/preprocessing.html\n",
      "Please also refer to the documentation for alternative solver options:\n",
      "    https://scikit-learn.org/stable/modules/linear_model.html#logistic-regression\n",
      "  extra_warning_msg=_LOGISTIC_SOLVER_CONVERGENCE_MSG,\n",
      "c:\\Users\\Jacka\\OneDrive - Emory University\\College\\Emory\\5 Senior Year Part 2 Electric Boogaloo\\CS 334\\hw4-janstey\\venv\\lib\\site-packages\\sklearn\\linear_model\\_logistic.py:818: ConvergenceWarning: lbfgs failed to converge (status=1):\n",
      "STOP: TOTAL NO. of ITERATIONS REACHED LIMIT.\n",
      "\n",
      "Increase the number of iterations (max_iter) or scale the data as shown in:\n",
      "    https://scikit-learn.org/stable/modules/preprocessing.html\n",
      "Please also refer to the documentation for alternative solver options:\n",
      "    https://scikit-learn.org/stable/modules/linear_model.html#logistic-regression\n",
      "  extra_warning_msg=_LOGISTIC_SOLVER_CONVERGENCE_MSG,\n"
     ]
    }
   ],
   "source": [
    "# Try logistic regression\n",
    "regressionB = LogisticRegression().fit(xTrainB, yTrain['label'])\n",
    "regressionC = LogisticRegression().fit(xTrainC, yTrain['label'])\n",
    "yHatLRB = regressionB.predict(xTestB)\n",
    "yHatLRC = regressionC.predict(xTestC)"
   ]
  },
  {
   "cell_type": "code",
   "execution_count": 29,
   "metadata": {},
   "outputs": [
    {
     "name": "stdout",
     "output_type": "stream",
     "text": [
      "Number of mistakes when using the binary dataset and multinomial naive bayes: 70\n",
      "Number of mistakes when using the count dataset and multinomial naive bayes: 546\n"
     ]
    }
   ],
   "source": [
    "# print results for mnb\n",
    "print(\"Number of mistakes when using the binary dataset and multinomial naive bayes:\", perceptron.calc_mistakes(np.transpose([yHatMNBB]), yTest.to_numpy()))\n",
    "print(\"Number of mistakes when using the count dataset and multinomial naive bayes:\", perceptron.calc_mistakes(np.transpose([yHatMNBC]), yTest.to_numpy()))"
   ]
  },
  {
   "cell_type": "code",
   "execution_count": 30,
   "metadata": {},
   "outputs": [
    {
     "name": "stdout",
     "output_type": "stream",
     "text": [
      "Number of mistakes when using the binary dataset and logistic regression: 38\n",
      "Number of mistakes when using the count dataset and logistic regression: 546\n"
     ]
    }
   ],
   "source": [
    "# print results for logistic regression\n",
    "print(\"Number of mistakes when using the binary dataset and logistic regression:\", perceptron.calc_mistakes(np.transpose([yHatLRB]), yTest.to_numpy()))\n",
    "print(\"Number of mistakes when using the count dataset and logistic regression:\", perceptron.calc_mistakes(np.transpose([yHatLRC]), yTest.to_numpy()))"
   ]
  }
 ],
 "metadata": {
  "kernelspec": {
   "display_name": "Python 3.7.5 ('venv': venv)",
   "language": "python",
   "name": "python3"
  },
  "language_info": {
   "codemirror_mode": {
    "name": "ipython",
    "version": 3
   },
   "file_extension": ".py",
   "mimetype": "text/x-python",
   "name": "python",
   "nbconvert_exporter": "python",
   "pygments_lexer": "ipython3",
   "version": "3.7.5"
  },
  "orig_nbformat": 4,
  "vscode": {
   "interpreter": {
    "hash": "f2f57152fefe8db9534db278ad4d8a8495304b73c7464e73261dba2e0e9aeb8f"
   }
  }
 },
 "nbformat": 4,
 "nbformat_minor": 2
}
